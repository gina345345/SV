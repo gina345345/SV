{
 "cells": [
  {
   "cell_type": "code",
   "execution_count": 1,
   "id": "f34c99a9",
   "metadata": {},
   "outputs": [],
   "source": [
    "import pandas as pd\n",
    "import numpy as np\n",
    "import matplotlib.pyplot as plt\n",
    "import seaborn as sns\n",
    "from sklearn.preprocessing import LabelEncoder"
   ]
  },
  {
   "cell_type": "code",
   "execution_count": 2,
   "id": "92299dc8",
   "metadata": {},
   "outputs": [
    {
     "data": {
      "text/html": [
       "<div>\n",
       "<style scoped>\n",
       "    .dataframe tbody tr th:only-of-type {\n",
       "        vertical-align: middle;\n",
       "    }\n",
       "\n",
       "    .dataframe tbody tr th {\n",
       "        vertical-align: top;\n",
       "    }\n",
       "\n",
       "    .dataframe thead th {\n",
       "        text-align: right;\n",
       "    }\n",
       "</style>\n",
       "<table border=\"1\" class=\"dataframe\">\n",
       "  <thead>\n",
       "    <tr style=\"text-align: right;\">\n",
       "      <th></th>\n",
       "      <th>ACCOUNT_ID</th>\n",
       "      <th>NUMBER_OF_DONATIONS</th>\n",
       "      <th>VALUE_OF_DONATIONS</th>\n",
       "      <th>CITY</th>\n",
       "      <th>STATE</th>\n",
       "      <th>ZIP</th>\n",
       "      <th>MI</th>\n",
       "      <th>ALUMNI_TYPE</th>\n",
       "      <th>UG_CLASS_YEAR</th>\n",
       "      <th>UG_SCHOOL</th>\n",
       "      <th>GRAD_DEGREE</th>\n",
       "      <th>GRAD_CLASS_YEAR</th>\n",
       "      <th>GRAD_SCHOOL</th>\n",
       "      <th>GENDER</th>\n",
       "      <th>MARRIED_TO_ALUM</th>\n",
       "      <th>ROTC</th>\n",
       "      <th>JC</th>\n",
       "    </tr>\n",
       "  </thead>\n",
       "  <tbody>\n",
       "    <tr>\n",
       "      <th>0</th>\n",
       "      <td>003o000000pO6zhAAC</td>\n",
       "      <td>0</td>\n",
       "      <td>0.0</td>\n",
       "      <td>Gainesville</td>\n",
       "      <td>FL</td>\n",
       "      <td>32605-6400</td>\n",
       "      <td>NaN</td>\n",
       "      <td>Graduate</td>\n",
       "      <td>1969</td>\n",
       "      <td>NaN</td>\n",
       "      <td>MS</td>\n",
       "      <td>1969.0</td>\n",
       "      <td>College of Arts and Sci (Sci)</td>\n",
       "      <td>M</td>\n",
       "      <td>N</td>\n",
       "      <td>0</td>\n",
       "      <td>0</td>\n",
       "    </tr>\n",
       "    <tr>\n",
       "      <th>1</th>\n",
       "      <td>003o000000pOSIxAAO</td>\n",
       "      <td>1</td>\n",
       "      <td>100.0</td>\n",
       "      <td>Pasadena</td>\n",
       "      <td>CA</td>\n",
       "      <td>91105-1515</td>\n",
       "      <td>NaN</td>\n",
       "      <td>Graduate</td>\n",
       "      <td>1968</td>\n",
       "      <td>NaN</td>\n",
       "      <td>JD</td>\n",
       "      <td>1968.0</td>\n",
       "      <td>School of Law</td>\n",
       "      <td>M</td>\n",
       "      <td>N</td>\n",
       "      <td>0</td>\n",
       "      <td>1</td>\n",
       "    </tr>\n",
       "    <tr>\n",
       "      <th>2</th>\n",
       "      <td>003o000000pNvhHAAS</td>\n",
       "      <td>4</td>\n",
       "      <td>1700.0</td>\n",
       "      <td>San Rafael</td>\n",
       "      <td>CA</td>\n",
       "      <td>94901-2478</td>\n",
       "      <td>NaN</td>\n",
       "      <td>Graduate</td>\n",
       "      <td>1964</td>\n",
       "      <td>NaN</td>\n",
       "      <td>JD</td>\n",
       "      <td>1964.0</td>\n",
       "      <td>School of Law</td>\n",
       "      <td>M</td>\n",
       "      <td>N</td>\n",
       "      <td>0</td>\n",
       "      <td>0</td>\n",
       "    </tr>\n",
       "    <tr>\n",
       "      <th>3</th>\n",
       "      <td>003o000000q0hl1AAA</td>\n",
       "      <td>0</td>\n",
       "      <td>0.0</td>\n",
       "      <td>San Antonio</td>\n",
       "      <td>TX</td>\n",
       "      <td>78232-4154</td>\n",
       "      <td>T</td>\n",
       "      <td>Undergraduate</td>\n",
       "      <td>1967</td>\n",
       "      <td>School of Nursing</td>\n",
       "      <td>NaN</td>\n",
       "      <td>NaN</td>\n",
       "      <td>NaN</td>\n",
       "      <td>F</td>\n",
       "      <td>N</td>\n",
       "      <td>0</td>\n",
       "      <td>0</td>\n",
       "    </tr>\n",
       "    <tr>\n",
       "      <th>4</th>\n",
       "      <td>003o000000pOZe9AAG</td>\n",
       "      <td>5</td>\n",
       "      <td>500.0</td>\n",
       "      <td>Westborough</td>\n",
       "      <td>MA</td>\n",
       "      <td>1581</td>\n",
       "      <td>NaN</td>\n",
       "      <td>Undergraduate</td>\n",
       "      <td>1964</td>\n",
       "      <td>School of Business</td>\n",
       "      <td>NaN</td>\n",
       "      <td>NaN</td>\n",
       "      <td>NaN</td>\n",
       "      <td>M</td>\n",
       "      <td>N</td>\n",
       "      <td>0</td>\n",
       "      <td>1</td>\n",
       "    </tr>\n",
       "  </tbody>\n",
       "</table>\n",
       "</div>"
      ],
      "text/plain": [
       "           ACCOUNT_ID  NUMBER_OF_DONATIONS  VALUE_OF_DONATIONS         CITY  \\\n",
       "0  003o000000pO6zhAAC                    0                 0.0  Gainesville   \n",
       "1  003o000000pOSIxAAO                    1               100.0     Pasadena   \n",
       "2  003o000000pNvhHAAS                    4              1700.0   San Rafael   \n",
       "3  003o000000q0hl1AAA                    0                 0.0  San Antonio   \n",
       "4  003o000000pOZe9AAG                    5               500.0  Westborough   \n",
       "\n",
       "  STATE         ZIP   MI    ALUMNI_TYPE  UG_CLASS_YEAR           UG_SCHOOL  \\\n",
       "0    FL  32605-6400  NaN       Graduate           1969                 NaN   \n",
       "1    CA  91105-1515  NaN       Graduate           1968                 NaN   \n",
       "2    CA  94901-2478  NaN       Graduate           1964                 NaN   \n",
       "3    TX  78232-4154    T  Undergraduate           1967   School of Nursing   \n",
       "4    MA        1581  NaN  Undergraduate           1964  School of Business   \n",
       "\n",
       "  GRAD_DEGREE  GRAD_CLASS_YEAR                    GRAD_SCHOOL GENDER  \\\n",
       "0          MS           1969.0  College of Arts and Sci (Sci)      M   \n",
       "1          JD           1968.0                  School of Law      M   \n",
       "2          JD           1964.0                  School of Law      M   \n",
       "3         NaN              NaN                            NaN      F   \n",
       "4         NaN              NaN                            NaN      M   \n",
       "\n",
       "  MARRIED_TO_ALUM  ROTC  JC  \n",
       "0               N     0   0  \n",
       "1               N     0   1  \n",
       "2               N     0   0  \n",
       "3               N     0   0  \n",
       "4               N     0   1  "
      ]
     },
     "execution_count": 2,
     "metadata": {},
     "output_type": "execute_result"
    }
   ],
   "source": [
    "# read the file\n",
    "df = pd.read_csv('AlumniGiving - DonationHistory.csv')\n",
    "df.head()"
   ]
  },
  {
   "cell_type": "code",
   "execution_count": 3,
   "id": "255ce3c0",
   "metadata": {
    "scrolled": true
   },
   "outputs": [
    {
     "name": "stdout",
     "output_type": "stream",
     "text": [
      "<class 'pandas.core.frame.DataFrame'>\n",
      "RangeIndex: 118854 entries, 0 to 118853\n",
      "Data columns (total 17 columns):\n",
      " #   Column               Non-Null Count   Dtype  \n",
      "---  ------               --------------   -----  \n",
      " 0   ACCOUNT_ID           118854 non-null  object \n",
      " 1   NUMBER_OF_DONATIONS  118854 non-null  int64  \n",
      " 2   VALUE_OF_DONATIONS   118854 non-null  float64\n",
      " 3   CITY                 99728 non-null   object \n",
      " 4   STATE                99728 non-null   object \n",
      " 5   ZIP                  99728 non-null   object \n",
      " 6   MI                   12957 non-null   object \n",
      " 7   ALUMNI_TYPE          118854 non-null  object \n",
      " 8   UG_CLASS_YEAR        118854 non-null  int64  \n",
      " 9   UG_SCHOOL            70297 non-null   object \n",
      " 10  GRAD_DEGREE          54423 non-null   object \n",
      " 11  GRAD_CLASS_YEAR      54422 non-null   float64\n",
      " 12  GRAD_SCHOOL          54393 non-null   object \n",
      " 13  GENDER               118854 non-null  object \n",
      " 14  MARRIED_TO_ALUM      118854 non-null  object \n",
      " 15  ROTC                 118854 non-null  int64  \n",
      " 16  JC                   118854 non-null  int64  \n",
      "dtypes: float64(2), int64(4), object(11)\n",
      "memory usage: 15.4+ MB\n"
     ]
    }
   ],
   "source": [
    "df.info()"
   ]
  },
  {
   "cell_type": "code",
   "execution_count": 4,
   "id": "aa8d9d78",
   "metadata": {
    "scrolled": true
   },
   "outputs": [
    {
     "data": {
      "text/plain": [
       "<AxesSubplot:xlabel='VALUE_OF_DONATIONS', ylabel='NUMBER_OF_DONATIONS'>"
      ]
     },
     "execution_count": 4,
     "metadata": {},
     "output_type": "execute_result"
    },
    {
     "data": {
      "image/png": "[encoded data removed]",
      "text/plain": [
       "<Figure size 432x288 with 1 Axes>"
      ]
     },
     "metadata": {
      "needs_background": "light"
     },
     "output_type": "display_data"
    }
   ],
   "source": [
    "sns.scatterplot(data=df,y='NUMBER_OF_DONATIONS',x='VALUE_OF_DONATIONS')"
   ]
  },
  {
   "cell_type": "code",
   "execution_count": 5,
   "id": "64b97c35",
   "metadata": {
    "scrolled": true
   },
   "outputs": [
    {
     "data": {
      "text/plain": [
       "(                ACCOUNT_ID  NUMBER_OF_DONATIONS  VALUE_OF_DONATIONS  CITY  \\\n",
       " 0       003o000000pO6zhAAC                    0                 0.0  1406   \n",
       " 1       003o000000pOSIxAAO                    1               100.0  3029   \n",
       " 2       003o000000pNvhHAAS                    4              1700.0  3554   \n",
       " 3       003o000000q0hl1AAA                    0                 0.0  3519   \n",
       " 4       003o000000pOZe9AAG                    5               500.0  4347   \n",
       " ...                    ...                  ...                 ...   ...   \n",
       " 118849  0031J00001Uxe4RQAR                    0                 0.0  3532   \n",
       " 118850  0031J00001Wsp1cQAB                    0                 0.0  2631   \n",
       " 118851  0031J00001W3RyKQAV                    0                 0.0  3153   \n",
       " 118852  0031J00001U449tQAB                    0                 0.0  4515   \n",
       " 118853  0031J00001U4HvRQAV                    0                 0.0   118   \n",
       " \n",
       "         STATE         ZIP   MI  ALUMNI_TYPE  UG_CLASS_YEAR  UG_SCHOOL  \\\n",
       " 0          13  32605-6400  NaN            0           1969         10   \n",
       " 1           8  91105-1515  NaN            0           1968         10   \n",
       " 2           8  94901-2478  NaN            0           1964         10   \n",
       " 3          51  78232-4154    T            1           1967          9   \n",
       " 4          25        1581  NaN            1           1964          6   \n",
       " ...       ...         ...  ...          ...            ...        ...   \n",
       " 118849      8  94108-3820  NaN            0           2021         10   \n",
       " 118850      8  96067-1194  NaN            1           1984          2   \n",
       " 118851      8       94588    J            0           2021         10   \n",
       " 118852     60         NaN  NaN            0           2020         10   \n",
       " 118853      8  95003-3172  NaN            0           2020         10   \n",
       " \n",
       "         GRAD_DEGREE  GRAD_CLASS_YEAR  GRAD_SCHOOL  GENDER  MARRIED_TO_ALUM  \\\n",
       " 0                28           1969.0            2       1                0   \n",
       " 1                 4           1968.0            7       1                0   \n",
       " 2                 4           1964.0            7       1                0   \n",
       " 3                38              NaN            9       0                0   \n",
       " 4                38              NaN            9       1                0   \n",
       " ...             ...              ...          ...     ...              ...   \n",
       " 118849            6           2021.0            1       0                0   \n",
       " 118850           38              NaN            9       1                0   \n",
       " 118851            6           2021.0            1       0                0   \n",
       " 118852            5           2020.0            7       1                0   \n",
       " 118853            8           2020.0            6       0                0   \n",
       " \n",
       "         ROTC  JC  \n",
       " 0          0   0  \n",
       " 1          0   1  \n",
       " 2          0   0  \n",
       " 3          0   0  \n",
       " 4          0   1  \n",
       " ...      ...  ..  \n",
       " 118849     0   0  \n",
       " 118850     0   0  \n",
       " 118851     0   0  \n",
       " 118852     0   0  \n",
       " 118853     0   0  \n",
       " \n",
       " [118854 rows x 17 columns],\n",
       " {})"
      ]
     },
     "execution_count": 5,
     "metadata": {},
     "output_type": "execute_result"
    }
   ],
   "source": [
    "# creating an instance of Labelencoder\n",
    "\n",
    "def label_encoder(df,columns):\n",
    "    encoders = {}\n",
    "    for col in columns:\n",
    "        le = LabelEncoder().fit(df[col])\n",
    "        df[col] = le.transform(df[col])\n",
    "    return df, encoders\n",
    "\n",
    "columns=[\"CITY\",\"ALUMNI_TYPE\",\"STATE\",\"UG_SCHOOL\",\"GRAD_DEGREE\",\"GRAD_SCHOOL\",\"GENDER\",\"MARRIED_TO_ALUM\"]\n",
    "label_encoder(df,columns)"
   ]
  },
  {
   "cell_type": "code",
   "execution_count": 6,
   "id": "9d2a0cfa",
   "metadata": {},
   "outputs": [
    {
     "data": {
      "text/html": [
       "<div>\n",
       "<style scoped>\n",
       "    .dataframe tbody tr th:only-of-type {\n",
       "        vertical-align: middle;\n",
       "    }\n",
       "\n",
       "    .dataframe tbody tr th {\n",
       "        vertical-align: top;\n",
       "    }\n",
       "\n",
       "    .dataframe thead th {\n",
       "        text-align: right;\n",
       "    }\n",
       "</style>\n",
       "<table border=\"1\" class=\"dataframe\">\n",
       "  <thead>\n",
       "    <tr style=\"text-align: right;\">\n",
       "      <th></th>\n",
       "      <th>CITY_x</th>\n",
       "      <th>ALUMNI_TYPE_x</th>\n",
       "      <th>STATE_x</th>\n",
       "      <th>UG_SCHOOL_x</th>\n",
       "      <th>GRAD_DEGREE_x</th>\n",
       "      <th>GRAD_SCHOOL_x</th>\n",
       "      <th>GENDER_x</th>\n",
       "      <th>MARRIED_TO_ALUM_x</th>\n",
       "      <th>ACCOUNT_ID</th>\n",
       "      <th>NUMBER_OF_DONATIONS</th>\n",
       "      <th>...</th>\n",
       "      <th>ALUMNI_TYPE_y</th>\n",
       "      <th>UG_CLASS_YEAR</th>\n",
       "      <th>UG_SCHOOL_y</th>\n",
       "      <th>GRAD_DEGREE_y</th>\n",
       "      <th>GRAD_CLASS_YEAR</th>\n",
       "      <th>GRAD_SCHOOL_y</th>\n",
       "      <th>GENDER_y</th>\n",
       "      <th>MARRIED_TO_ALUM_y</th>\n",
       "      <th>ROTC</th>\n",
       "      <th>JC</th>\n",
       "    </tr>\n",
       "  </thead>\n",
       "  <tbody>\n",
       "    <tr>\n",
       "      <th>0</th>\n",
       "      <td>1406</td>\n",
       "      <td>0</td>\n",
       "      <td>13</td>\n",
       "      <td>10</td>\n",
       "      <td>28</td>\n",
       "      <td>2</td>\n",
       "      <td>1</td>\n",
       "      <td>0</td>\n",
       "      <td>003o000000pO6zhAAC</td>\n",
       "      <td>0</td>\n",
       "      <td>...</td>\n",
       "      <td>Graduate</td>\n",
       "      <td>1969</td>\n",
       "      <td>NaN</td>\n",
       "      <td>MS</td>\n",
       "      <td>1969.0</td>\n",
       "      <td>College of Arts and Sci (Sci)</td>\n",
       "      <td>M</td>\n",
       "      <td>N</td>\n",
       "      <td>0</td>\n",
       "      <td>0</td>\n",
       "    </tr>\n",
       "    <tr>\n",
       "      <th>1</th>\n",
       "      <td>3029</td>\n",
       "      <td>0</td>\n",
       "      <td>8</td>\n",
       "      <td>10</td>\n",
       "      <td>4</td>\n",
       "      <td>7</td>\n",
       "      <td>1</td>\n",
       "      <td>0</td>\n",
       "      <td>003o000000pOSIxAAO</td>\n",
       "      <td>1</td>\n",
       "      <td>...</td>\n",
       "      <td>Graduate</td>\n",
       "      <td>1968</td>\n",
       "      <td>NaN</td>\n",
       "      <td>JD</td>\n",
       "      <td>1968.0</td>\n",
       "      <td>School of Law</td>\n",
       "      <td>M</td>\n",
       "      <td>N</td>\n",
       "      <td>0</td>\n",
       "      <td>1</td>\n",
       "    </tr>\n",
       "    <tr>\n",
       "      <th>2</th>\n",
       "      <td>3554</td>\n",
       "      <td>0</td>\n",
       "      <td>8</td>\n",
       "      <td>10</td>\n",
       "      <td>4</td>\n",
       "      <td>7</td>\n",
       "      <td>1</td>\n",
       "      <td>0</td>\n",
       "      <td>003o000000pNvhHAAS</td>\n",
       "      <td>4</td>\n",
       "      <td>...</td>\n",
       "      <td>Graduate</td>\n",
       "      <td>1964</td>\n",
       "      <td>NaN</td>\n",
       "      <td>JD</td>\n",
       "      <td>1964.0</td>\n",
       "      <td>School of Law</td>\n",
       "      <td>M</td>\n",
       "      <td>N</td>\n",
       "      <td>0</td>\n",
       "      <td>0</td>\n",
       "    </tr>\n",
       "    <tr>\n",
       "      <th>3</th>\n",
       "      <td>3519</td>\n",
       "      <td>1</td>\n",
       "      <td>51</td>\n",
       "      <td>9</td>\n",
       "      <td>38</td>\n",
       "      <td>9</td>\n",
       "      <td>0</td>\n",
       "      <td>0</td>\n",
       "      <td>003o000000q0hl1AAA</td>\n",
       "      <td>0</td>\n",
       "      <td>...</td>\n",
       "      <td>Undergraduate</td>\n",
       "      <td>1967</td>\n",
       "      <td>School of Nursing</td>\n",
       "      <td>NaN</td>\n",
       "      <td>NaN</td>\n",
       "      <td>NaN</td>\n",
       "      <td>F</td>\n",
       "      <td>N</td>\n",
       "      <td>0</td>\n",
       "      <td>0</td>\n",
       "    </tr>\n",
       "    <tr>\n",
       "      <th>4</th>\n",
       "      <td>4347</td>\n",
       "      <td>1</td>\n",
       "      <td>25</td>\n",
       "      <td>6</td>\n",
       "      <td>38</td>\n",
       "      <td>9</td>\n",
       "      <td>1</td>\n",
       "      <td>0</td>\n",
       "      <td>003o000000pOZe9AAG</td>\n",
       "      <td>5</td>\n",
       "      <td>...</td>\n",
       "      <td>Undergraduate</td>\n",
       "      <td>1964</td>\n",
       "      <td>School of Business</td>\n",
       "      <td>NaN</td>\n",
       "      <td>NaN</td>\n",
       "      <td>NaN</td>\n",
       "      <td>M</td>\n",
       "      <td>N</td>\n",
       "      <td>0</td>\n",
       "      <td>1</td>\n",
       "    </tr>\n",
       "  </tbody>\n",
       "</table>\n",
       "<p>5 rows × 25 columns</p>\n",
       "</div>"
      ],
      "text/plain": [
       "   CITY_x  ALUMNI_TYPE_x  STATE_x  UG_SCHOOL_x  GRAD_DEGREE_x  GRAD_SCHOOL_x  \\\n",
       "0    1406              0       13           10             28              2   \n",
       "1    3029              0        8           10              4              7   \n",
       "2    3554              0        8           10              4              7   \n",
       "3    3519              1       51            9             38              9   \n",
       "4    4347              1       25            6             38              9   \n",
       "\n",
       "   GENDER_x  MARRIED_TO_ALUM_x          ACCOUNT_ID  NUMBER_OF_DONATIONS  ...  \\\n",
       "0         1                  0  003o000000pO6zhAAC                    0  ...   \n",
       "1         1                  0  003o000000pOSIxAAO                    1  ...   \n",
       "2         1                  0  003o000000pNvhHAAS                    4  ...   \n",
       "3         0                  0  003o000000q0hl1AAA                    0  ...   \n",
       "4         1                  0  003o000000pOZe9AAG                    5  ...   \n",
       "\n",
       "   ALUMNI_TYPE_y UG_CLASS_YEAR         UG_SCHOOL_y GRAD_DEGREE_y  \\\n",
       "0       Graduate          1969                 NaN            MS   \n",
       "1       Graduate          1968                 NaN            JD   \n",
       "2       Graduate          1964                 NaN            JD   \n",
       "3  Undergraduate          1967   School of Nursing           NaN   \n",
       "4  Undergraduate          1964  School of Business           NaN   \n",
       "\n",
       "  GRAD_CLASS_YEAR                  GRAD_SCHOOL_y  GENDER_y MARRIED_TO_ALUM_y  \\\n",
       "0          1969.0  College of Arts and Sci (Sci)         M                 N   \n",
       "1          1968.0                  School of Law         M                 N   \n",
       "2          1964.0                  School of Law         M                 N   \n",
       "3             NaN                            NaN         F                 N   \n",
       "4             NaN                            NaN         M                 N   \n",
       "\n",
       "  ROTC  JC  \n",
       "0    0   0  \n",
       "1    0   1  \n",
       "2    0   0  \n",
       "3    0   0  \n",
       "4    0   1  \n",
       "\n",
       "[5 rows x 25 columns]"
      ]
     },
     "execution_count": 6,
     "metadata": {},
     "output_type": "execute_result"
    }
   ],
   "source": [
    "df_orignal = pd.read_csv('AlumniGiving - DonationHistory.csv')\n",
    "df_label=pd.merge(df[columns],df_orignal,left_index=True,right_index=True)\n",
    "df_label.head()"
   ]
  },
  {
   "cell_type": "code",
   "execution_count": 7,
   "id": "862005f3",
   "metadata": {},
   "outputs": [],
   "source": [
    "df_label.to_csv ('label.csv')"
   ]
  },
  {
   "cell_type": "code",
   "execution_count": 8,
   "id": "e064e9a2",
   "metadata": {
    "scrolled": false
   },
   "outputs": [
    {
     "data": {
      "text/html": [
       "<div>\n",
       "<style scoped>\n",
       "    .dataframe tbody tr th:only-of-type {\n",
       "        vertical-align: middle;\n",
       "    }\n",
       "\n",
       "    .dataframe tbody tr th {\n",
       "        vertical-align: top;\n",
       "    }\n",
       "\n",
       "    .dataframe thead th {\n",
       "        text-align: right;\n",
       "    }\n",
       "</style>\n",
       "<table border=\"1\" class=\"dataframe\">\n",
       "  <thead>\n",
       "    <tr style=\"text-align: right;\">\n",
       "      <th></th>\n",
       "      <th>ACCOUNT_ID</th>\n",
       "      <th>NUMBER_OF_DONATIONS</th>\n",
       "      <th>VALUE_OF_DONATIONS</th>\n",
       "      <th>CITY</th>\n",
       "      <th>STATE</th>\n",
       "      <th>ZIP</th>\n",
       "      <th>MI</th>\n",
       "      <th>ALUMNI_TYPE</th>\n",
       "      <th>UG_CLASS_YEAR</th>\n",
       "      <th>UG_SCHOOL</th>\n",
       "      <th>GRAD_DEGREE</th>\n",
       "      <th>GRAD_CLASS_YEAR</th>\n",
       "      <th>GRAD_SCHOOL</th>\n",
       "      <th>GENDER</th>\n",
       "      <th>MARRIED_TO_ALUM</th>\n",
       "      <th>ROTC</th>\n",
       "      <th>JC</th>\n",
       "    </tr>\n",
       "  </thead>\n",
       "  <tbody>\n",
       "    <tr>\n",
       "      <th>0</th>\n",
       "      <td>003o000000pO6zhAAC</td>\n",
       "      <td>0</td>\n",
       "      <td>0.0</td>\n",
       "      <td>1406</td>\n",
       "      <td>13</td>\n",
       "      <td>32605-6400</td>\n",
       "      <td>NaN</td>\n",
       "      <td>0</td>\n",
       "      <td>1969</td>\n",
       "      <td>10</td>\n",
       "      <td>28</td>\n",
       "      <td>1969.0</td>\n",
       "      <td>2</td>\n",
       "      <td>1</td>\n",
       "      <td>0</td>\n",
       "      <td>0</td>\n",
       "      <td>0</td>\n",
       "    </tr>\n",
       "    <tr>\n",
       "      <th>1</th>\n",
       "      <td>003o000000pOSIxAAO</td>\n",
       "      <td>1</td>\n",
       "      <td>100.0</td>\n",
       "      <td>3029</td>\n",
       "      <td>8</td>\n",
       "      <td>91105-1515</td>\n",
       "      <td>NaN</td>\n",
       "      <td>0</td>\n",
       "      <td>1968</td>\n",
       "      <td>10</td>\n",
       "      <td>4</td>\n",
       "      <td>1968.0</td>\n",
       "      <td>7</td>\n",
       "      <td>1</td>\n",
       "      <td>0</td>\n",
       "      <td>0</td>\n",
       "      <td>1</td>\n",
       "    </tr>\n",
       "    <tr>\n",
       "      <th>2</th>\n",
       "      <td>003o000000pNvhHAAS</td>\n",
       "      <td>4</td>\n",
       "      <td>1700.0</td>\n",
       "      <td>3554</td>\n",
       "      <td>8</td>\n",
       "      <td>94901-2478</td>\n",
       "      <td>NaN</td>\n",
       "      <td>0</td>\n",
       "      <td>1964</td>\n",
       "      <td>10</td>\n",
       "      <td>4</td>\n",
       "      <td>1964.0</td>\n",
       "      <td>7</td>\n",
       "      <td>1</td>\n",
       "      <td>0</td>\n",
       "      <td>0</td>\n",
       "      <td>0</td>\n",
       "    </tr>\n",
       "    <tr>\n",
       "      <th>3</th>\n",
       "      <td>003o000000q0hl1AAA</td>\n",
       "      <td>0</td>\n",
       "      <td>0.0</td>\n",
       "      <td>3519</td>\n",
       "      <td>51</td>\n",
       "      <td>78232-4154</td>\n",
       "      <td>T</td>\n",
       "      <td>1</td>\n",
       "      <td>1967</td>\n",
       "      <td>9</td>\n",
       "      <td>38</td>\n",
       "      <td>NaN</td>\n",
       "      <td>9</td>\n",
       "      <td>0</td>\n",
       "      <td>0</td>\n",
       "      <td>0</td>\n",
       "      <td>0</td>\n",
       "    </tr>\n",
       "    <tr>\n",
       "      <th>4</th>\n",
       "      <td>003o000000pOZe9AAG</td>\n",
       "      <td>5</td>\n",
       "      <td>500.0</td>\n",
       "      <td>4347</td>\n",
       "      <td>25</td>\n",
       "      <td>1581</td>\n",
       "      <td>NaN</td>\n",
       "      <td>1</td>\n",
       "      <td>1964</td>\n",
       "      <td>6</td>\n",
       "      <td>38</td>\n",
       "      <td>NaN</td>\n",
       "      <td>9</td>\n",
       "      <td>1</td>\n",
       "      <td>0</td>\n",
       "      <td>0</td>\n",
       "      <td>1</td>\n",
       "    </tr>\n",
       "  </tbody>\n",
       "</table>\n",
       "</div>"
      ],
      "text/plain": [
       "           ACCOUNT_ID  NUMBER_OF_DONATIONS  VALUE_OF_DONATIONS  CITY  STATE  \\\n",
       "0  003o000000pO6zhAAC                    0                 0.0  1406     13   \n",
       "1  003o000000pOSIxAAO                    1               100.0  3029      8   \n",
       "2  003o000000pNvhHAAS                    4              1700.0  3554      8   \n",
       "3  003o000000q0hl1AAA                    0                 0.0  3519     51   \n",
       "4  003o000000pOZe9AAG                    5               500.0  4347     25   \n",
       "\n",
       "          ZIP   MI  ALUMNI_TYPE  UG_CLASS_YEAR  UG_SCHOOL  GRAD_DEGREE  \\\n",
       "0  32605-6400  NaN            0           1969         10           28   \n",
       "1  91105-1515  NaN            0           1968         10            4   \n",
       "2  94901-2478  NaN            0           1964         10            4   \n",
       "3  78232-4154    T            1           1967          9           38   \n",
       "4        1581  NaN            1           1964          6           38   \n",
       "\n",
       "   GRAD_CLASS_YEAR  GRAD_SCHOOL  GENDER  MARRIED_TO_ALUM  ROTC  JC  \n",
       "0           1969.0            2       1                0     0   0  \n",
       "1           1968.0            7       1                0     0   1  \n",
       "2           1964.0            7       1                0     0   0  \n",
       "3              NaN            9       0                0     0   0  \n",
       "4              NaN            9       1                0     0   1  "
      ]
     },
     "execution_count": 8,
     "metadata": {},
     "output_type": "execute_result"
    }
   ],
   "source": [
    "df.head()"
   ]
  },
  {
   "cell_type": "code",
   "execution_count": 9,
   "id": "ab1f4839",
   "metadata": {
    "scrolled": true
   },
   "outputs": [
    {
     "name": "stdout",
     "output_type": "stream",
     "text": [
      "<class 'pandas.core.frame.DataFrame'>\n",
      "RangeIndex: 118854 entries, 0 to 118853\n",
      "Data columns (total 17 columns):\n",
      " #   Column               Non-Null Count   Dtype  \n",
      "---  ------               --------------   -----  \n",
      " 0   ACCOUNT_ID           118854 non-null  object \n",
      " 1   NUMBER_OF_DONATIONS  118854 non-null  int64  \n",
      " 2   VALUE_OF_DONATIONS   118854 non-null  float64\n",
      " 3   CITY                 118854 non-null  int32  \n",
      " 4   STATE                118854 non-null  int32  \n",
      " 5   ZIP                  99728 non-null   object \n",
      " 6   MI                   12957 non-null   object \n",
      " 7   ALUMNI_TYPE          118854 non-null  int32  \n",
      " 8   UG_CLASS_YEAR        118854 non-null  int64  \n",
      " 9   UG_SCHOOL            118854 non-null  int32  \n",
      " 10  GRAD_DEGREE          118854 non-null  int32  \n",
      " 11  GRAD_CLASS_YEAR      54422 non-null   float64\n",
      " 12  GRAD_SCHOOL          118854 non-null  int32  \n",
      " 13  GENDER               118854 non-null  int32  \n",
      " 14  MARRIED_TO_ALUM      118854 non-null  int32  \n",
      " 15  ROTC                 118854 non-null  int64  \n",
      " 16  JC                   118854 non-null  int64  \n",
      "dtypes: float64(2), int32(8), int64(4), object(3)\n",
      "memory usage: 11.8+ MB\n"
     ]
    }
   ],
   "source": [
    "df.info()"
   ]
  },
  {
   "cell_type": "code",
   "execution_count": 10,
   "id": "34fe015a",
   "metadata": {},
   "outputs": [],
   "source": [
    "df_drop=df.drop(['ACCOUNT_ID','ZIP','MI','GRAD_CLASS_YEAR','UG_CLASS_YEAR'],axis=1)"
   ]
  },
  {
   "cell_type": "code",
   "execution_count": 11,
   "id": "aa799432",
   "metadata": {
    "scrolled": true
   },
   "outputs": [
    {
     "name": "stdout",
     "output_type": "stream",
     "text": [
      "<class 'pandas.core.frame.DataFrame'>\n",
      "RangeIndex: 118854 entries, 0 to 118853\n",
      "Data columns (total 12 columns):\n",
      " #   Column               Non-Null Count   Dtype  \n",
      "---  ------               --------------   -----  \n",
      " 0   NUMBER_OF_DONATIONS  118854 non-null  int64  \n",
      " 1   VALUE_OF_DONATIONS   118854 non-null  float64\n",
      " 2   CITY                 118854 non-null  int32  \n",
      " 3   STATE                118854 non-null  int32  \n",
      " 4   ALUMNI_TYPE          118854 non-null  int32  \n",
      " 5   UG_SCHOOL            118854 non-null  int32  \n",
      " 6   GRAD_DEGREE          118854 non-null  int32  \n",
      " 7   GRAD_SCHOOL          118854 non-null  int32  \n",
      " 8   GENDER               118854 non-null  int32  \n",
      " 9   MARRIED_TO_ALUM      118854 non-null  int32  \n",
      " 10  ROTC                 118854 non-null  int64  \n",
      " 11  JC                   118854 non-null  int64  \n",
      "dtypes: float64(1), int32(8), int64(3)\n",
      "memory usage: 7.3 MB\n"
     ]
    }
   ],
   "source": [
    "df_drop.info()"
   ]
  },
  {
   "cell_type": "code",
   "execution_count": 12,
   "id": "96c48060",
   "metadata": {},
   "outputs": [
    {
     "data": {
      "text/html": [
       "<div>\n",
       "<style scoped>\n",
       "    .dataframe tbody tr th:only-of-type {\n",
       "        vertical-align: middle;\n",
       "    }\n",
       "\n",
       "    .dataframe tbody tr th {\n",
       "        vertical-align: top;\n",
       "    }\n",
       "\n",
       "    .dataframe thead th {\n",
       "        text-align: right;\n",
       "    }\n",
       "</style>\n",
       "<table border=\"1\" class=\"dataframe\">\n",
       "  <thead>\n",
       "    <tr style=\"text-align: right;\">\n",
       "      <th></th>\n",
       "      <th>NUMBER_OF_DONATIONS</th>\n",
       "      <th>CITY</th>\n",
       "      <th>STATE</th>\n",
       "      <th>ALUMNI_TYPE</th>\n",
       "      <th>UG_CLASS_YEAR</th>\n",
       "      <th>UG_SCHOOL</th>\n",
       "      <th>GRAD_DEGREE</th>\n",
       "      <th>GRAD_CLASS_YEAR</th>\n",
       "      <th>GRAD_SCHOOL</th>\n",
       "      <th>GENDER</th>\n",
       "      <th>MARRIED_TO_ALUM</th>\n",
       "      <th>ROTC</th>\n",
       "      <th>JC</th>\n",
       "      <th>VALUE_OF_DONATIONS</th>\n",
       "    </tr>\n",
       "  </thead>\n",
       "  <tbody>\n",
       "    <tr>\n",
       "      <th>0</th>\n",
       "      <td>0</td>\n",
       "      <td>1406</td>\n",
       "      <td>13</td>\n",
       "      <td>0</td>\n",
       "      <td>1969</td>\n",
       "      <td>10</td>\n",
       "      <td>28</td>\n",
       "      <td>1969.0</td>\n",
       "      <td>2</td>\n",
       "      <td>1</td>\n",
       "      <td>0</td>\n",
       "      <td>0</td>\n",
       "      <td>0</td>\n",
       "      <td>0.0</td>\n",
       "    </tr>\n",
       "    <tr>\n",
       "      <th>1</th>\n",
       "      <td>1</td>\n",
       "      <td>3029</td>\n",
       "      <td>8</td>\n",
       "      <td>0</td>\n",
       "      <td>1968</td>\n",
       "      <td>10</td>\n",
       "      <td>4</td>\n",
       "      <td>1968.0</td>\n",
       "      <td>7</td>\n",
       "      <td>1</td>\n",
       "      <td>0</td>\n",
       "      <td>0</td>\n",
       "      <td>1</td>\n",
       "      <td>100.0</td>\n",
       "    </tr>\n",
       "    <tr>\n",
       "      <th>2</th>\n",
       "      <td>4</td>\n",
       "      <td>3554</td>\n",
       "      <td>8</td>\n",
       "      <td>0</td>\n",
       "      <td>1964</td>\n",
       "      <td>10</td>\n",
       "      <td>4</td>\n",
       "      <td>1964.0</td>\n",
       "      <td>7</td>\n",
       "      <td>1</td>\n",
       "      <td>0</td>\n",
       "      <td>0</td>\n",
       "      <td>0</td>\n",
       "      <td>1700.0</td>\n",
       "    </tr>\n",
       "    <tr>\n",
       "      <th>3</th>\n",
       "      <td>0</td>\n",
       "      <td>3519</td>\n",
       "      <td>51</td>\n",
       "      <td>1</td>\n",
       "      <td>1967</td>\n",
       "      <td>9</td>\n",
       "      <td>38</td>\n",
       "      <td>NaN</td>\n",
       "      <td>9</td>\n",
       "      <td>0</td>\n",
       "      <td>0</td>\n",
       "      <td>0</td>\n",
       "      <td>0</td>\n",
       "      <td>0.0</td>\n",
       "    </tr>\n",
       "    <tr>\n",
       "      <th>4</th>\n",
       "      <td>5</td>\n",
       "      <td>4347</td>\n",
       "      <td>25</td>\n",
       "      <td>1</td>\n",
       "      <td>1964</td>\n",
       "      <td>6</td>\n",
       "      <td>38</td>\n",
       "      <td>NaN</td>\n",
       "      <td>9</td>\n",
       "      <td>1</td>\n",
       "      <td>0</td>\n",
       "      <td>0</td>\n",
       "      <td>1</td>\n",
       "      <td>500.0</td>\n",
       "    </tr>\n",
       "    <tr>\n",
       "      <th>...</th>\n",
       "      <td>...</td>\n",
       "      <td>...</td>\n",
       "      <td>...</td>\n",
       "      <td>...</td>\n",
       "      <td>...</td>\n",
       "      <td>...</td>\n",
       "      <td>...</td>\n",
       "      <td>...</td>\n",
       "      <td>...</td>\n",
       "      <td>...</td>\n",
       "      <td>...</td>\n",
       "      <td>...</td>\n",
       "      <td>...</td>\n",
       "      <td>...</td>\n",
       "    </tr>\n",
       "    <tr>\n",
       "      <th>118849</th>\n",
       "      <td>0</td>\n",
       "      <td>3532</td>\n",
       "      <td>8</td>\n",
       "      <td>0</td>\n",
       "      <td>2021</td>\n",
       "      <td>10</td>\n",
       "      <td>6</td>\n",
       "      <td>2021.0</td>\n",
       "      <td>1</td>\n",
       "      <td>0</td>\n",
       "      <td>0</td>\n",
       "      <td>0</td>\n",
       "      <td>0</td>\n",
       "      <td>0.0</td>\n",
       "    </tr>\n",
       "    <tr>\n",
       "      <th>118850</th>\n",
       "      <td>0</td>\n",
       "      <td>2631</td>\n",
       "      <td>8</td>\n",
       "      <td>1</td>\n",
       "      <td>1984</td>\n",
       "      <td>2</td>\n",
       "      <td>38</td>\n",
       "      <td>NaN</td>\n",
       "      <td>9</td>\n",
       "      <td>1</td>\n",
       "      <td>0</td>\n",
       "      <td>0</td>\n",
       "      <td>0</td>\n",
       "      <td>0.0</td>\n",
       "    </tr>\n",
       "    <tr>\n",
       "      <th>118851</th>\n",
       "      <td>0</td>\n",
       "      <td>3153</td>\n",
       "      <td>8</td>\n",
       "      <td>0</td>\n",
       "      <td>2021</td>\n",
       "      <td>10</td>\n",
       "      <td>6</td>\n",
       "      <td>2021.0</td>\n",
       "      <td>1</td>\n",
       "      <td>0</td>\n",
       "      <td>0</td>\n",
       "      <td>0</td>\n",
       "      <td>0</td>\n",
       "      <td>0.0</td>\n",
       "    </tr>\n",
       "    <tr>\n",
       "      <th>118852</th>\n",
       "      <td>0</td>\n",
       "      <td>4515</td>\n",
       "      <td>60</td>\n",
       "      <td>0</td>\n",
       "      <td>2020</td>\n",
       "      <td>10</td>\n",
       "      <td>5</td>\n",
       "      <td>2020.0</td>\n",
       "      <td>7</td>\n",
       "      <td>1</td>\n",
       "      <td>0</td>\n",
       "      <td>0</td>\n",
       "      <td>0</td>\n",
       "      <td>0.0</td>\n",
       "    </tr>\n",
       "    <tr>\n",
       "      <th>118853</th>\n",
       "      <td>0</td>\n",
       "      <td>118</td>\n",
       "      <td>8</td>\n",
       "      <td>0</td>\n",
       "      <td>2020</td>\n",
       "      <td>10</td>\n",
       "      <td>8</td>\n",
       "      <td>2020.0</td>\n",
       "      <td>6</td>\n",
       "      <td>0</td>\n",
       "      <td>0</td>\n",
       "      <td>0</td>\n",
       "      <td>0</td>\n",
       "      <td>0.0</td>\n",
       "    </tr>\n",
       "  </tbody>\n",
       "</table>\n",
       "<p>118854 rows × 14 columns</p>\n",
       "</div>"
      ],
      "text/plain": [
       "        NUMBER_OF_DONATIONS  CITY  STATE  ALUMNI_TYPE  UG_CLASS_YEAR  \\\n",
       "0                         0  1406     13            0           1969   \n",
       "1                         1  3029      8            0           1968   \n",
       "2                         4  3554      8            0           1964   \n",
       "3                         0  3519     51            1           1967   \n",
       "4                         5  4347     25            1           1964   \n",
       "...                     ...   ...    ...          ...            ...   \n",
       "118849                    0  3532      8            0           2021   \n",
       "118850                    0  2631      8            1           1984   \n",
       "118851                    0  3153      8            0           2021   \n",
       "118852                    0  4515     60            0           2020   \n",
       "118853                    0   118      8            0           2020   \n",
       "\n",
       "        UG_SCHOOL  GRAD_DEGREE  GRAD_CLASS_YEAR  GRAD_SCHOOL  GENDER  \\\n",
       "0              10           28           1969.0            2       1   \n",
       "1              10            4           1968.0            7       1   \n",
       "2              10            4           1964.0            7       1   \n",
       "3               9           38              NaN            9       0   \n",
       "4               6           38              NaN            9       1   \n",
       "...           ...          ...              ...          ...     ...   \n",
       "118849         10            6           2021.0            1       0   \n",
       "118850          2           38              NaN            9       1   \n",
       "118851         10            6           2021.0            1       0   \n",
       "118852         10            5           2020.0            7       1   \n",
       "118853         10            8           2020.0            6       0   \n",
       "\n",
       "        MARRIED_TO_ALUM  ROTC  JC  VALUE_OF_DONATIONS  \n",
       "0                     0     0   0                 0.0  \n",
       "1                     0     0   1               100.0  \n",
       "2                     0     0   0              1700.0  \n",
       "3                     0     0   0                 0.0  \n",
       "4                     0     0   1               500.0  \n",
       "...                 ...   ...  ..                 ...  \n",
       "118849                0     0   0                 0.0  \n",
       "118850                0     0   0                 0.0  \n",
       "118851                0     0   0                 0.0  \n",
       "118852                0     0   0                 0.0  \n",
       "118853                0     0   0                 0.0  \n",
       "\n",
       "[118854 rows x 14 columns]"
      ]
     },
     "execution_count": 12,
     "metadata": {},
     "output_type": "execute_result"
    }
   ],
   "source": [
    "# change the order of attribute\n",
    "attribute=('NUMBER_OF_DONATIONS','CITY','STATE','ALUMNI_TYPE','UG_CLASS_YEAR',\n",
    "           'UG_SCHOOL','GRAD_DEGREE','GRAD_CLASS_YEAR','GRAD_SCHOOL','GENDER',\n",
    "           'MARRIED_TO_ALUM','ROTC','JC','VALUE_OF_DONATIONS')\n",
    "corr_data = df.reindex(attribute, axis=1)\n",
    "corr_data"
   ]
  },
  {
   "cell_type": "code",
   "execution_count": 13,
   "id": "0922b70c",
   "metadata": {
    "scrolled": true
   },
   "outputs": [
    {
     "data": {
      "image/png": "[encoded data removed]",
      "text/plain": [
       "<Figure size 432x288 with 2 Axes>"
      ]
     },
     "metadata": {
      "needs_background": "light"
     },
     "output_type": "display_data"
    }
   ],
   "source": [
    "# plot a heatmap to see the correlation\n",
    "df_corr = corr_data.corr()\n",
    "sns.heatmap(df_corr, xticklabels=df_corr.columns, yticklabels=df_corr.columns,center=0,square=True)\n",
    "sns.set(rc={'figure.figsize':(8,8)})"
   ]
  },
  {
   "cell_type": "code",
   "execution_count": 14,
   "id": "92bb0c98",
   "metadata": {},
   "outputs": [],
   "source": [
    "# create a new column-have made donation or not, 1=yes,0=never\n",
    "def donated_or_not(row):\n",
    "    if row['VALUE_OF_DONATIONS'] == 0:\n",
    "        return 0\n",
    "    else:\n",
    "        return 1\n",
    "\n",
    "df_drop['DONATE']= df_drop.apply(lambda row: donated_or_not(row), axis=1)"
   ]
  },
  {
   "cell_type": "markdown",
   "id": "4c67d165",
   "metadata": {},
   "source": [
    "### Models\n",
    "1. Y is donate or not (simple binary)"
   ]
  },
  {
   "cell_type": "code",
   "execution_count": 15,
   "id": "69a85fcd",
   "metadata": {},
   "outputs": [],
   "source": [
    "x = df_drop.drop(['VALUE_OF_DONATIONS','NUMBER_OF_DONATIONS','DONATE'],axis=1)\n",
    "y = df_drop['DONATE']"
   ]
  },
  {
   "cell_type": "code",
   "execution_count": 16,
   "id": "21f0fa7e",
   "metadata": {},
   "outputs": [],
   "source": [
    "from sklearn.model_selection import train_test_split\n",
    "X_train, X_test, Y_train, Y_test = train_test_split(x,y,test_size=0.2,random_state=42)"
   ]
  },
  {
   "cell_type": "code",
   "execution_count": 17,
   "id": "e2732167",
   "metadata": {},
   "outputs": [],
   "source": [
    "from imblearn.under_sampling import RandomUnderSampler\n",
    "\n",
    "Ran = RandomUnderSampler(random_state=42)\n",
    "X_res, Y_res = Ran.fit_resample(X_train, Y_train)"
   ]
  },
  {
   "cell_type": "code",
   "execution_count": 18,
   "id": "560ee2d1",
   "metadata": {},
   "outputs": [
    {
     "name": "stdout",
     "output_type": "stream",
     "text": [
      "Original dataset shape Counter({0: 98620, 1: 20234})\n",
      "Resampled dataset shape Counter({0: 16202, 1: 16202})\n"
     ]
    }
   ],
   "source": [
    "from collections import Counter\n",
    "print('Original dataset shape %s' % Counter(y))\n",
    "print('Resampled dataset shape %s' % Counter(Y_res))"
   ]
  },
  {
   "cell_type": "markdown",
   "id": "5ca83574",
   "metadata": {},
   "source": [
    "### 1. LGBMClassifier"
   ]
  },
  {
   "cell_type": "code",
   "execution_count": 22,
   "id": "c51b74ad",
   "metadata": {},
   "outputs": [
    {
     "name": "stderr",
     "output_type": "stream",
     "text": [
      "C:\\Users\\gina3\\anaconda3\\lib\\site-packages\\lightgbm\\sklearn.py:736: UserWarning: 'verbose' argument is deprecated and will be removed in a future release of LightGBM. Pass 'log_evaluation()' callback via 'callbacks' argument instead.\n",
      "  _log_warning(\"'verbose' argument is deprecated and will be removed in a future release of LightGBM. \"\n"
     ]
    },
    {
     "name": "stdout",
     "output_type": "stream",
     "text": [
      "[400]\ttraining's f1_score: 0.564399\tvalid_1's f1_score: 0.537252\n",
      "[800]\ttraining's f1_score: 0.57766\tvalid_1's f1_score: 0.545264\n",
      "[1200]\ttraining's f1_score: 0.586373\tvalid_1's f1_score: 0.547918\n"
     ]
    },
    {
     "data": {
      "text/plain": [
       "LGBMClassifier(colsample_bytree=0.5, learning_rate=0.06, metric='f1_score',\n",
       "               n_estimators=1500)"
      ]
     },
     "execution_count": 22,
     "metadata": {},
     "output_type": "execute_result"
    }
   ],
   "source": [
    "from lightgbm import LGBMClassifier\n",
    "from sklearn.metrics import f1_score\n",
    "\n",
    "\n",
    "def f1_metric(ytrue,preds):\n",
    "    ''' Return the F1 Score value for the preds and true values, ytrue '''\n",
    "    return 'f1_score', f1_score((preds>=0.5).astype('int'), ytrue, average='macro'), True\n",
    "\n",
    "params = {\n",
    "    'learning_rate': 0.06,\n",
    "    'n_estimators': 1500,\n",
    "    'colsample_bytree': 0.5,\n",
    "    'metric': 'f1_score'\n",
    "}\n",
    "\n",
    "full_clf = LGBMClassifier(**params)\n",
    "\n",
    "full_clf.fit(X_train, Y_train,\n",
    "             eval_set=[(X_train, Y_train), (X_test, Y_test)],\n",
    "             verbose=400, eval_metric=f1_metric)"
   ]
  },
  {
   "cell_type": "code",
   "execution_count": 23,
   "id": "39afa670",
   "metadata": {},
   "outputs": [
    {
     "name": "stdout",
     "output_type": "stream",
     "text": [
      "train score: 0.8469758000904473\n",
      "test score: 0.8349249085019562\n"
     ]
    }
   ],
   "source": [
    "#Show the LGBM results - no resample\n",
    "print(\"train score:\", full_clf.score(X_train, Y_train))\n",
    "print(\"test score:\", full_clf.score(X_test, Y_test))"
   ]
  },
  {
   "cell_type": "code",
   "execution_count": 24,
   "id": "8198034b",
   "metadata": {},
   "outputs": [
    {
     "name": "stderr",
     "output_type": "stream",
     "text": [
      "C:\\Users\\gina3\\anaconda3\\lib\\site-packages\\lightgbm\\sklearn.py:736: UserWarning: 'verbose' argument is deprecated and will be removed in a future release of LightGBM. Pass 'log_evaluation()' callback via 'callbacks' argument instead.\n",
      "  _log_warning(\"'verbose' argument is deprecated and will be removed in a future release of LightGBM. \"\n"
     ]
    },
    {
     "name": "stdout",
     "output_type": "stream",
     "text": [
      "[400]\ttraining's f1_score: 0.676479\tvalid_1's f1_score: 0.5682\n",
      "[800]\ttraining's f1_score: 0.691971\tvalid_1's f1_score: 0.565556\n",
      "[1200]\ttraining's f1_score: 0.701421\tvalid_1's f1_score: 0.563971\n"
     ]
    },
    {
     "data": {
      "text/plain": [
       "LGBMClassifier(colsample_bytree=0.5, learning_rate=0.06, metric='f1_score',\n",
       "               n_estimators=1500)"
      ]
     },
     "execution_count": 24,
     "metadata": {},
     "output_type": "execute_result"
    }
   ],
   "source": [
    "full_clf.fit(X_res, Y_res,\n",
    "             eval_set=[(X_res, Y_res), (X_test, Y_test)],\n",
    "             verbose=400, eval_metric=f1_metric)"
   ]
  },
  {
   "cell_type": "code",
   "execution_count": 25,
   "id": "fe195aa2",
   "metadata": {
    "scrolled": true
   },
   "outputs": [
    {
     "name": "stdout",
     "output_type": "stream",
     "text": [
      "train score: 0.7071657820022219\n",
      "test score: 0.6488578520045434\n"
     ]
    }
   ],
   "source": [
    "#Show the LGBM results - resample\n",
    "print(\"train score:\", full_clf.score(X_res, Y_res))\n",
    "print(\"test score:\", full_clf.score(X_test, Y_test))"
   ]
  },
  {
   "cell_type": "markdown",
   "id": "cb17193e",
   "metadata": {},
   "source": [
    "### 2. Random Forest"
   ]
  },
  {
   "cell_type": "code",
   "execution_count": 28,
   "id": "433b0c9a",
   "metadata": {},
   "outputs": [
    {
     "data": {
      "text/plain": [
       "RandomForestClassifier(max_depth=30, n_estimators=140, random_state=30)"
      ]
     },
     "execution_count": 28,
     "metadata": {},
     "output_type": "execute_result"
    }
   ],
   "source": [
    "from sklearn import ensemble\n",
    "rf_classifier  = ensemble.RandomForestClassifier(n_estimators=140, max_depth=30, random_state=30)\n",
    "rf_classifier.fit(X_train, Y_train)"
   ]
  },
  {
   "cell_type": "code",
   "execution_count": 29,
   "id": "1247efe4",
   "metadata": {},
   "outputs": [
    {
     "name": "stdout",
     "output_type": "stream",
     "text": [
      "train score: 0.8911477340849574\n",
      "test score: 0.8150267132219932\n"
     ]
    }
   ],
   "source": [
    "#Show the Random Forest results - no resample\n",
    "print(\"train score:\", rf_classifier.score(X_train, Y_train))\n",
    "print(\"test score:\", rf_classifier.score(X_test, Y_test))"
   ]
  },
  {
   "cell_type": "markdown",
   "id": "f70babf8",
   "metadata": {},
   "source": [
    "### Picking"
   ]
  },
  {
   "cell_type": "code",
   "execution_count": null,
   "id": "23ad80fc",
   "metadata": {},
   "outputs": [],
   "source": [
    "df_non_donor = df_drop[df_drop['NUMBER_OF_DONATIONS']==0]\n",
    "df_non_donor.shape"
   ]
  },
  {
   "cell_type": "code",
   "execution_count": null,
   "id": "9bb9a2f4",
   "metadata": {},
   "outputs": [],
   "source": [
    "df_non_donor=df_non_donor.drop(['VALUE_OF_DONATIONS','NUMBER_OF_DONATIONS','DONATE'],axis=1)"
   ]
  },
  {
   "cell_type": "code",
   "execution_count": null,
   "id": "914ba34e",
   "metadata": {},
   "outputs": [],
   "source": [
    "proba=full_clf.predict_proba(df_non_donor)\n",
    "proba"
   ]
  },
  {
   "cell_type": "code",
   "execution_count": null,
   "id": "615b9bf0",
   "metadata": {},
   "outputs": [],
   "source": [
    "non_donor_y = full_clf.predict(df_non_donor)\n",
    "print(non_donor_y) "
   ]
  },
  {
   "cell_type": "code",
   "execution_count": null,
   "id": "a87e21f6",
   "metadata": {},
   "outputs": [],
   "source": [
    "df_non_donor['Y']=non_donor_y "
   ]
  },
  {
   "cell_type": "code",
   "execution_count": null,
   "id": "fab30108",
   "metadata": {},
   "outputs": [],
   "source": [
    "df_non_donor['Proba_NO']=proba.T[0]\n",
    "df_non_donor['Proba_YES']=proba.T[1]"
   ]
  },
  {
   "cell_type": "code",
   "execution_count": null,
   "id": "c14de709",
   "metadata": {
    "scrolled": true
   },
   "outputs": [],
   "source": [
    "df_non_donor.head()"
   ]
  },
  {
   "cell_type": "code",
   "execution_count": null,
   "id": "1029623e",
   "metadata": {},
   "outputs": [],
   "source": [
    "df_picked=df_non_donor.nlargest(n=10000, columns=['Proba_YES'])"
   ]
  },
  {
   "cell_type": "code",
   "execution_count": null,
   "id": "e85525b4",
   "metadata": {},
   "outputs": [],
   "source": [
    "df_picked.head()"
   ]
  },
  {
   "cell_type": "code",
   "execution_count": null,
   "id": "c0380620",
   "metadata": {},
   "outputs": [],
   "source": [
    "df_picked=pd.merge(df_picked,df['ACCOUNT_ID'],left_index=True,right_index=True)\n",
    "df_picked.head()"
   ]
  },
  {
   "cell_type": "code",
   "execution_count": null,
   "id": "2423c108",
   "metadata": {},
   "outputs": [],
   "source": [
    "df.iloc[14790]"
   ]
  },
  {
   "cell_type": "code",
   "execution_count": null,
   "id": "d6e6bb81",
   "metadata": {},
   "outputs": [],
   "source": [
    "df_picked['ACCOUNT_ID']"
   ]
  },
  {
   "cell_type": "code",
   "execution_count": null,
   "id": "2d273a04",
   "metadata": {},
   "outputs": [],
   "source": [
    "df_picked.to_csv ('id.csv')"
   ]
  },
  {
   "cell_type": "code",
   "execution_count": null,
   "id": "bf73dc3a",
   "metadata": {},
   "outputs": [],
   "source": [
    "attribute=('CITY','STATE','ALUMNI_TYPE','UG_CLASS_YEAR',\n",
    "           'UG_SCHOOL','GRAD_DEGREE','GRAD_CLASS_YEAR','GRAD_SCHOOL','GENDER',\n",
    "           'MARRIED_TO_ALUM','ROTC','JC','Proba_YES')\n",
    "corr_data = df_picked.reindex(attribute, axis=1)\n",
    "corr_data.head()"
   ]
  },
  {
   "cell_type": "code",
   "execution_count": null,
   "id": "c6d4f080",
   "metadata": {},
   "outputs": [],
   "source": [
    "# plot a heatmap to see the correlation\n",
    "df_corr = corr_data.corr()\n",
    "sns.heatmap(df_corr, xticklabels=df_corr.columns, yticklabels=df_corr.columns,center=0,square=True)\n",
    "sns.set(rc={'figure.figsize':(8,8)})"
   ]
  },
  {
   "cell_type": "code",
   "execution_count": null,
   "id": "f6ec94b3",
   "metadata": {},
   "outputs": [],
   "source": [
    "sns.barplot(data=df_picked,y='Proba_YES',x='JC')"
   ]
  },
  {
   "cell_type": "markdown",
   "id": "56a0d748",
   "metadata": {},
   "source": [
    "### Linear Regreesion\n",
    "2. Y is a continuous value"
   ]
  },
  {
   "cell_type": "code",
   "execution_count": null,
   "id": "a77c0aef",
   "metadata": {},
   "outputs": [],
   "source": [
    "x = df_drop.drop(['VALUE_OF_DONATIONS','NUMBER_OF_DONATIONS','DONATE','AVG_VALUE'],axis=1)\n",
    "y = df_drop['AVG_VALUE'].values"
   ]
  },
  {
   "cell_type": "code",
   "execution_count": null,
   "id": "c9c2cfa2",
   "metadata": {},
   "outputs": [],
   "source": [
    "X_train, X_test, Y_train, Y_test = train_test_split(x,y,test_size=0.2,random_state=42)"
   ]
  },
  {
   "cell_type": "code",
   "execution_count": null,
   "id": "9a4eb315",
   "metadata": {},
   "outputs": [],
   "source": [
    "from sklearn.linear_model import LinearRegression\n",
    "Lin= LinearRegression()\n",
    "Lin.fit(X_train,Y_train)"
   ]
  },
  {
   "cell_type": "code",
   "execution_count": null,
   "id": "a35fdaa9",
   "metadata": {},
   "outputs": [],
   "source": [
    "#Show the liner regression results\n",
    "print(\"train score:\", Lin.score(X_train, Y_train))\n",
    "print(\"test score:\", Lin.score(X_test, Y_test))"
   ]
  }
 ],
 "metadata": {
  "kernelspec": {
   "display_name": "Python 3 (ipykernel)",
   "language": "python",
   "name": "python3"
  },
  "language_info": {
   "codemirror_mode": {
    "name": "ipython",
    "version": 3
   },
   "file_extension": ".py",
   "mimetype": "text/x-python",
   "name": "python",
   "nbconvert_exporter": "python",
   "pygments_lexer": "ipython3",
   "version": "3.9.7"
  }
 },
 "nbformat": 4,
 "nbformat_minor": 5
}
